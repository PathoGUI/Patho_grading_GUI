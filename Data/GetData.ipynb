{
 "cells": [
  {
   "cell_type": "markdown",
   "metadata": {},
   "source": [
    "# Copying data into destination directory\n"
   ]
  },
  {
   "cell_type": "code",
   "execution_count": 2,
   "metadata": {},
   "outputs": [],
   "source": [
    "import os"
   ]
  },
  {
   "cell_type": "code",
   "execution_count": 18,
   "metadata": {},
   "outputs": [],
   "source": [
    "# Get the path for all the .tif files to be copied\n",
    "Imagesdir = \"Y:\\Human Observer Study\"  \n",
    "patients_dir = []\n",
    "\n",
    "dirs = os.listdir(Imagesdir)\n",
    "for dir in dirs:\n",
    "    patients_dir.append(os.path.join(Imagesdir, dir))\n",
    "\n",
    "biopsy_dir = []\n",
    "for patient in patients_dir:\n",
    "    biopsies = os.listdir(patient)\n",
    "    for biopsy in biopsies:\n",
    "        biopsy_dir.append(os.path.join(patient,biopsy))\n",
    "\n",
    "tiff_paths = []\n",
    "for path in biopsy_dir:\n",
    "        for root, dirs, files in os.walk(path):\n",
    "            for dir_name in dirs:\n",
    "                if \"2D\" in dir_name:\n",
    "\n",
    "                    folder_2D_path = os.path.join(root, dir_name)\n",
    "                    items_in_2D = os.listdir(folder_2D_path)\n",
    "                    if items_in_2D:\n",
    "\n",
    "                        first_item_path = os.path.join(folder_2D_path, items_in_2D[1])\n",
    "                        tiff_paths.append(first_item_path)\n",
    "                    break  \n",
    "\n"
   ]
  },
  {
   "cell_type": "code",
   "execution_count": 24,
   "metadata": {},
   "outputs": [
    {
     "data": {
      "text/plain": [
       "'S094_F1'"
      ]
     },
     "execution_count": 24,
     "metadata": {},
     "output_type": "execute_result"
    }
   ],
   "source": [
    "tiff_paths[100].split(os.sep)[3]"
   ]
  },
  {
   "cell_type": "code",
   "execution_count": 25,
   "metadata": {},
   "outputs": [],
   "source": [
    "destination = \"./\"\n",
    "import shutil\n",
    "for tiff_path in tiff_paths:\n",
    "    filename = tiff_path.split(os.sep)[3] + \".tif\"\n",
    "    shutil.copy(tiff_path, os.path.join(destination, filename))\n",
    "\n"
   ]
  },
  {
   "cell_type": "code",
   "execution_count": null,
   "metadata": {},
   "outputs": [],
   "source": []
  }
 ],
 "metadata": {
  "kernelspec": {
   "display_name": "Python 3.8.3 ('base')",
   "language": "python",
   "name": "python3"
  },
  "language_info": {
   "codemirror_mode": {
    "name": "ipython",
    "version": 3
   },
   "file_extension": ".py",
   "mimetype": "text/x-python",
   "name": "python",
   "nbconvert_exporter": "python",
   "pygments_lexer": "ipython3",
   "version": "3.8.3"
  },
  "orig_nbformat": 4,
  "vscode": {
   "interpreter": {
    "hash": "ad2bdc8ecc057115af97d19610ffacc2b4e99fae6737bb82f5d7fb13d2f2c186"
   }
  }
 },
 "nbformat": 4,
 "nbformat_minor": 2
}
